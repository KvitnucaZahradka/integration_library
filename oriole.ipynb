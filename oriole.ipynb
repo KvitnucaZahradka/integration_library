{
 "cells": [
  {
   "cell_type": "markdown",
   "metadata": {},
   "source": [
    "# Probabilistic programming from scratch\n",
    "\n",
    "1. A/B testing with ABC\n",
    "2. Functional Python and online learning\n",
    "3. Improving performance and the German Tank Problem\n",
    "\n",
    "Inspirations:\n",
    "\n",
    " - [Statistics for Hackers, Jake VanderPlas](https://www.youtube.com/watch?v=Iq9DzN6mvYA)\n",
    " - [Loop like a Native, Ned Batchelder](https://nedbatchelder.com/text/iter.html)\n",
    " - [Stupid itertools tricks for data science, Joel Grus](https://github.com/joelgrus/stupid-itertools-tricks-pydata)\n",
    " - [Data Science from Scratch, Joel Grus](https://github.com/joelgrus/data-science-from-scratch)\n",
    " - [Orioles](https://www.safaribooksonline.com/oriole/getting-started-with-deep-learning-using-keras-and-python)\n",
    "\n",
    "## 1. A/B testing with ABC\n",
    " \n",
    "Real world observational data is imperfect or incomplete. The process of learning from it, while quantifying uncertainty, is known as inference.\n",
    "\n",
    "### A/B testing\n",
    "\n",
    "Let's consider a concrete problem: an A/B test. Our goal is to determine if layout A is better than layout B. Better is defined in terms of \"conversion\": the fraction of visitors registered or signed up. Say 4% of visitors shown layout A convert, and 5% of layout B. Clearly layout B is better, right? Well, what if it was actually a short A/B test:"
   ]
  },
  {
   "cell_type": "code",
   "execution_count": 1,
   "metadata": {
    "collapsed": true
   },
   "outputs": [],
   "source": [
    "na = 100\n",
    "obsa = 4\n",
    "nb = 40\n",
    "obsb = 2"
   ]
  },
  {
   "cell_type": "markdown",
   "metadata": {},
   "source": [
    "Are you still sure B is better? And what if it's going to cost you $1m to change the layout of your website. Do you still feel sure? \n",
    "\n",
    "What we'd really like is to be able to quantify how confident we are.\n",
    "\n",
    "This is the algorithm we're going to use to do that.\n",
    "\n",
    " - generate a trial value for the conversion fraction\n",
    " - simulate data assuming the trial value\n",
    " - if the simulation looks like the real data, keep the trial value, otherwise discard it\n",
    " - keep doing this until you've got lots of trial values that worked\n",
    " \n",
    "Let's go through the steps of this algorithm one at a time, writing little functions to do them.\n",
    "\n",
    "First, generate a trial value for the conversion fraction. Obviously the conversion fraction has to be between 0 and 1. Luckly Python has a built in function to generate such numbers."
   ]
  },
  {
   "cell_type": "code",
   "execution_count": 2,
   "metadata": {
    "collapsed": true
   },
   "outputs": [],
   "source": [
    "import random\n",
    "\n",
    "def chooseconversion():\n",
    "    return random.random()"
   ]
  },
  {
   "cell_type": "markdown",
   "metadata": {},
   "source": [
    "Now let's write a function that simulates `nvisitors` arriving at a website, and converting with probability `p`"
   ]
  },
  {
   "cell_type": "code",
   "execution_count": 3,
   "metadata": {
    "collapsed": true
   },
   "outputs": [],
   "source": [
    "def simulateconversion(p, nvisitors):\n",
    "    outcomes = []\n",
    "    for _ in range(nvisitors):\n",
    "        outcomes.append(random.random() < p)\n",
    "    return sum(outcomes)"
   ]
  },
  {
   "cell_type": "markdown",
   "metadata": {},
   "source": [
    "This function is a little more interesting.\n",
    "\n",
    "It uses `random.random()` again, which returns a real number somewhere in the range 0 to 1.\n",
    "\n",
    "The `for` loop runs `nvisitors` times. The range ensures that. The `_` is the canonical way of indicating we don't care about which round of the loop we're in. After the loop, `outcomes` is a list of booleans `nvisitors` long, where each item has a probability `p` of being True.\n",
    "\n",
    "Finally it uses a trick: the `sum` of a list of booleans is the number of Trues in the list, so the return value is the number of conversions.\n",
    "\n",
    "If you know probability, you'll recognize the list of outcomes as repeated Bernoulli trials, and the return value as sampling from a Binomial distribution."
   ]
  },
  {
   "cell_type": "code",
   "execution_count": 9,
   "metadata": {},
   "outputs": [
    {
     "data": {
      "text/plain": [
       "7"
      ]
     },
     "execution_count": 9,
     "metadata": {},
     "output_type": "execute_result"
    }
   ],
   "source": [
    "simulateconversion(0.5, 10)"
   ]
  },
  {
   "cell_type": "markdown",
   "metadata": {},
   "source": [
    "At this point check you understand how `simulateconversion` works, you might want to stick a `print` statement in there to take a look at `outcomes`. Or try different arguments when calling the function.\n",
    "\n",
    "Finally we need is a function that tells us whether two outcomes are the same. We'll use this to compare the real observations to the outcome of each simulation."
   ]
  },
  {
   "cell_type": "code",
   "execution_count": 5,
   "metadata": {
    "collapsed": true
   },
   "outputs": [],
   "source": [
    "def compareconversion(obs1, obs2):\n",
    "    return obs1 == obs2"
   ]
  },
  {
   "cell_type": "markdown",
   "metadata": {},
   "source": [
    "Now we've got all the pieces of our algorithm:\n",
    "\n",
    " - generate a trial value for the conversion fraction with `chooseconversion`\n",
    " - simulate data assuming the trial value `simulateconversion`\n",
    " - decide if the simulation looks like the real data with `compareconversion`\n",
    " \n",
    "Now we put these functions together and keep the trial value whose simulations match the observation, and keep doing this until we've got lots of trial values that worked."
   ]
  },
  {
   "cell_type": "code",
   "execution_count": 10,
   "metadata": {
    "collapsed": true
   },
   "outputs": [],
   "source": [
    "def estimateconversion(n, obs, nestimates=5000):\n",
    "    i = 0\n",
    "    estimates = []\n",
    "    while i < nestimates:\n",
    "        p = chooseconversion()\n",
    "        sim = simulateconversion(p, n)\n",
    "        if compareconversion(obs, sim):\n",
    "            estimates.append(p)\n",
    "            i += 1\n",
    "    return estimates"
   ]
  },
  {
   "cell_type": "markdown",
   "metadata": {},
   "source": [
    "Now lets get 5000 estimates."
   ]
  },
  {
   "cell_type": "code",
   "execution_count": 11,
   "metadata": {},
   "outputs": [
    {
     "data": {
      "text/plain": [
       "5000"
      ]
     },
     "execution_count": 11,
     "metadata": {},
     "output_type": "execute_result"
    }
   ],
   "source": [
    "pa_estimates = estimateconversion(na, obsa)\n",
    "len(pa_estimates)"
   ]
  },
  {
   "cell_type": "markdown",
   "metadata": {},
   "source": [
    "And plot what we got."
   ]
  },
  {
   "cell_type": "code",
   "execution_count": 12,
   "metadata": {},
   "outputs": [
    {
     "data": {
      "image/png": "[encoded data removed]",
      "text/plain": [
       "<matplotlib.figure.Figure at 0x10527ba58>"
      ]
     },
     "metadata": {},
     "output_type": "display_data"
    }
   ],
   "source": [
    "%matplotlib inline\n",
    "import matplotlib.pyplot as plt\n",
    "plt.style.use('ggplot')  # make plots look non-awful\n",
    "\n",
    "abbins = [i/200 for i in range(50)]\n",
    "plt.hist(pa_estimates, bins=abbins);"
   ]
  },
  {
   "cell_type": "markdown",
   "metadata": {},
   "source": [
    "These are the \"good\" guesses, i.e. guesses that yielded simulated observations that looked like the real thing.\n",
    "\n",
    "You can think of the y-axis scale as a measure of probability. The higher the bar, the more likely the \"true\" conversion fraction is that value.\n",
    "\n",
    "The most probable value is around 0.04.\n",
    "\n",
    "Now, at this point you may be saying: \"I could have told you it was 0.04 when you told me 4/100 visitors converted.\" And you'd be right. 4/100 gives you a thing that is generally known as the _maximum likelihood_ estimate. It's often very easy to calculate.\n",
    "\n",
    "But that maximum likelihood estimate doesn't tell the whole story. The number of conversions divided by the number of visitors is very likely close to the \"true\" value if we waited until we had a million or a billion visitors, but we only had 100. To see how this might be a problem, let's finish the A/B test by looking at layout B."
   ]
  },
  {
   "cell_type": "code",
   "execution_count": 13,
   "metadata": {},
   "outputs": [
    {
     "data": {
      "image/png": "[encoded data removed]",
      "text/plain": [
       "<matplotlib.figure.Figure at 0x103de0cf8>"
      ]
     },
     "metadata": {},
     "output_type": "display_data"
    }
   ],
   "source": [
    "pb_estimates = estimateconversion(nb, obsb)\n",
    "plt.hist(pa_estimates, bins=abbins, label='A')\n",
    "plt.hist(pb_estimates, bins=abbins, label='B', alpha=0.5)\n",
    "plt.legend();"
   ]
  },
  {
   "cell_type": "markdown",
   "metadata": {},
   "source": [
    "The most likely value of layout B's conversion fraction is around 0.05, which is better than the most likely value of layout A's conversion fraction.\n",
    "\n",
    "But! If you think about these as probability distributions, it's quite possible that the conversion fraction for layout B is as low as 1-2%, and it's not impossible that the conversion fraction of layout A is as high as 8-10%\n",
    "\n",
    "When we're conducting an A/B test, we don't necessarily care about the absolute values of these conversion fractions: we care much more about which is better. How can we answer this question with these two distributons? Very simply!"
   ]
  },
  {
   "cell_type": "code",
   "execution_count": 14,
   "metadata": {
    "collapsed": true
   },
   "outputs": [],
   "source": [
    "b_better = []\n",
    "for a, b in zip(pa_estimates, pb_estimates):\n",
    "    b_better.append(b > a)"
   ]
  },
  {
   "cell_type": "markdown",
   "metadata": {},
   "source": [
    "`b_better` is a list of 5000 booleans indicating whether the conversion fraction inferred for layout is better than that inferred for A. Here's the first ten."
   ]
  },
  {
   "cell_type": "code",
   "execution_count": 15,
   "metadata": {},
   "outputs": [
    {
     "name": "stdout",
     "output_type": "stream",
     "text": [
      "[True, True, True, False, False, True, True, False, False, False]\n"
     ]
    }
   ],
   "source": [
    "print(b_better[:10])"
   ]
  },
  {
   "cell_type": "markdown",
   "metadata": {},
   "source": [
    "Again we can make use of the fact that the sum of a list of booleans is the number of Trues it contains. We can use that fact to compute the fraction of samples for which B is better than A."
   ]
  },
  {
   "cell_type": "code",
   "execution_count": 16,
   "metadata": {},
   "outputs": [
    {
     "name": "stdout",
     "output_type": "stream",
     "text": [
      "0.68\n"
     ]
    }
   ],
   "source": [
    "print(sum(b_better)/len(b_better))"
   ]
  },
  {
   "cell_type": "markdown",
   "metadata": {},
   "source": [
    "What this value is telling us is that, given the data, we are only 67% percent sure that layout B is better.\n",
    "\n",
    "Our maximum likelihood estimates of 4% for layout A and 5% for layout B told us with certainty that B was better. But the certainty was an illusion. The probabilistic statement is a full description of what we know, given the data. This approach allows us to quantify the probability of both outcomes. Which allows us to quantify risk.\n",
    "\n",
    "Maybe switching over to layout B would cost us $1m. In which case, we perhaps 67% is not confident enough to risk it. In that case, we'd run the A/B test for longer, and hopefully become more confident.\n",
    " \n",
    "Stop stop here and use pa_estimates and pb_estimates ot answer a couple more questions. \n",
    "\n",
    "What's the probability pa is greater than 6%? \n",
    "\n",
    "And let's we'll only bother to switch to layout B if it's at least 1% better than layout A. What's the probability of this, given the data?\n",
    "\n",
    "If you manage those, try experimenting by changing na, obsa, nb and obsb to see what happens to your answers. Don't make na or nb too large or the code will take a long time to run."
   ]
  },
  {
   "cell_type": "markdown",
   "metadata": {},
   "source": [
    "### Bayes theorem\n",
    "\n",
    "I just made you eat your greens. You just used Bayes Theorem. You did it by simulation instead of mathematics. The algorithm we used, which avoids solving this equation, is called Approximate Bayesian Computation.\n",
    "\n",
    "![](http://www.fastforwardlabs.com/report_images/ff05/2-02.png)\n",
    "\n",
    "The probability that a hypothesis is true, given the observed data, is the _posterior probability_. Generally speaking, this is the thing you want to know. It's what your updated beliefs about the world following the experiment. This is what `pa_estimates` and `pb_estimates` are.\n",
    "\n",
    "The probability that you'd get the observed data if the hypothesis were true, is the _likelihood_. The simulation and rejection process is implicitly how we evaluated this.\n",
    "\n",
    "The probability the hypothesis was true before you conducted the experiment, is the _prior probability_. That was the function that generated trial values of the conversion fraction.\n",
    " \n",
    "## 2. Functional Python and online learning\n",
    "\n",
    "The code above was kind of ugly and problem specific. If we reimplement Approximate Bayesian Computation using a functional approach we can clean things up a lot.\n",
    "\n",
    "We're going to compose together Python generators into a pipeline that takes in the prior and spits out a stream of samples from the posterior, to implement Approximate Bayesian Computation.\n",
    "\n",
    "If you haven't seen generators before, they're one of Python's most powerful features. A generator is an object that yields values from a sequence or stream one at a time when you call `next()` on it.\n",
    "\n",
    "Here's a finite generator, created using a generator comprehension, which is just like a list comprehension except instead of returning a list, it returns an object that yields values one at a time."
   ]
  },
  {
   "cell_type": "code",
   "execution_count": 17,
   "metadata": {},
   "outputs": [
    {
     "name": "stdout",
     "output_type": "stream",
     "text": [
      "1\n",
      "A\n",
      "3.14\n"
     ]
    }
   ],
   "source": [
    "gen1 = (i for i in [1, \"A\", 3.14])\n",
    "print(next(gen1))\n",
    "print(next(gen1))\n",
    "print(next(gen1))"
   ]
  },
  {
   "cell_type": "markdown",
   "metadata": {},
   "source": [
    "We can also create a generator by hand, by writing a function that `yield`s instead of `return`s."
   ]
  },
  {
   "cell_type": "code",
   "execution_count": 18,
   "metadata": {
    "collapsed": true
   },
   "outputs": [],
   "source": [
    "def gen2():\n",
    "    yield 1\n",
    "    yield \"A\"\n",
    "    yield 3.14"
   ]
  },
  {
   "cell_type": "markdown",
   "metadata": {},
   "source": [
    "We can run `list()` on a finite generator like this to get all the values."
   ]
  },
  {
   "cell_type": "code",
   "execution_count": 19,
   "metadata": {},
   "outputs": [
    {
     "name": "stdout",
     "output_type": "stream",
     "text": [
      "[1, 'A', 3.14]\n"
     ]
    }
   ],
   "source": [
    "print(list(gen2()))"
   ]
  },
  {
   "cell_type": "markdown",
   "metadata": {},
   "source": [
    "Now we can clean up this monstrosity we wrote in the previous part."
   ]
  },
  {
   "cell_type": "code",
   "execution_count": 20,
   "metadata": {
    "collapsed": true
   },
   "outputs": [],
   "source": [
    "def simulateconversion(p, nvisitors):\n",
    "    outcomes = []\n",
    "    for _ in range(nvisitors):\n",
    "        outcomes.append(random.random() < p)\n",
    "    return sum(outcomes)"
   ]
  },
  {
   "cell_type": "markdown",
   "metadata": {},
   "source": [
    "One of the most important characteristics of functional programming is that we don't mutate variables. In the function above, the list `outcomes` gets mutated every loop."
   ]
  },
  {
   "cell_type": "code",
   "execution_count": 21,
   "metadata": {
    "collapsed": true
   },
   "outputs": [],
   "source": [
    "def simulateconversion(p, nvisitors):\n",
    "    return sum(random.random() < p for _ in range(nvisitors))"
   ]
  },
  {
   "cell_type": "markdown",
   "metadata": {},
   "source": [
    "This version is more concise, which unless taken too far, generally means it's more readable. It's also a little bit faster. And you can make nvisitors as large as you like because it doesn't hold the entire set of outcomes in memory at any one time. That's because the argument to `sum` is a generator comprehension.\n",
    "\n",
    "Now here's the really cool bit about generators. They allow you to work with streams of data whose lengths you don't know in advance, and which may in fact be infinite."
   ]
  },
  {
   "cell_type": "code",
   "execution_count": 22,
   "metadata": {},
   "outputs": [
    {
     "name": "stdout",
     "output_type": "stream",
     "text": [
      "0\n",
      "1\n",
      "2\n"
     ]
    }
   ],
   "source": [
    "import itertools\n",
    "\n",
    "gen3 = itertools.count()\n",
    "\n",
    "print(next(gen3))\n",
    "print(next(gen3))\n",
    "print(next(gen3))"
   ]
  },
  {
   "cell_type": "markdown",
   "metadata": {},
   "source": [
    "The `count` function returns a generator that simply keeps count of how many times `next` has been called on it. We can keep calling `next` on `gen3` it and it will keep returning numbers. So we can't run `list` on it, because it's a list without an end. Which is to say, `gen3` is an infinite generator.\n",
    "\n",
    "We're going to be using infinite generators a lot, so let's set up a `take()` function that gives the next `n` items yielded by a generator. The will work fine with infinite generators. The recipe is taken from the excellent [itertools documentation](https://docs.python.org/3/library/itertools.html#itertools-recipes). It uses `islice` which takes a generator (even an infinite one), and returns another generator truncated to `n` items long."
   ]
  },
  {
   "cell_type": "code",
   "execution_count": 26,
   "metadata": {
    "collapsed": true
   },
   "outputs": [],
   "source": [
    "def take(n, iterable):\n",
    "    return list(itertools.islice(iterable, n))"
   ]
  },
  {
   "cell_type": "markdown",
   "metadata": {},
   "source": [
    "Now, with that warmup — generators, generator expressions, and the `take` function — we can make our pipeline. At one end it's going to take in possible values of the conversion fraction, the prior, and spit out a stream of samples from the posterior at the other. And it's going to yield these samples for as long as you like.\n",
    "\n",
    "TODO: stream schematic here!\n",
    "\n",
    "First we'll make a generator that yields an infinite stream of trial values from the prior. \n",
    "\n",
    "We start with `prior`, which is a list of possible values for the unknown parameter we're trying to learn. We take a copy, shuffle it, then use `cycle` from itertools.  `cycle` takes a iterable and returns elements from it until they are exhausted, then repeats the sequence again indefintely, for as long as you want.\n",
    "\n",
    "Bonus question: why do I take a copy of `prior`?"
   ]
  },
  {
   "cell_type": "code",
   "execution_count": 24,
   "metadata": {
    "collapsed": true
   },
   "outputs": [],
   "source": [
    "def prior_sampler(prior):\n",
    "    prior = list(prior)\n",
    "    random.shuffle(prior)\n",
    "    # cycle is doing if you call: [a, b, c] --> [a, b, c, a, b, c, ....a, b, c] \n",
    "    return itertools.cycle(prior)"
   ]
  },
  {
   "cell_type": "markdown",
   "metadata": {},
   "source": [
    "Let's see how this function works for a very simple prior, where we think the conversion fraction could be 1, 2, 3, 4 or 5%"
   ]
  },
  {
   "cell_type": "code",
   "execution_count": 27,
   "metadata": {},
   "outputs": [
    {
     "name": "stdout",
     "output_type": "stream",
     "text": [
      "[0.03, 0.05, 0.01, 0.04, 0.02, 0.03, 0.05, 0.01, 0.04, 0.02, 0.03, 0.05]\n"
     ]
    }
   ],
   "source": [
    "prior = [0.01, 0.02, 0.03, 0.04, 0.05]\n",
    "n = 12\n",
    "print(take(n, prior_sampler(prior)))"
   ]
  },
  {
   "cell_type": "markdown",
   "metadata": {},
   "source": [
    "The next step in the ABC algorithm is, for each of the samples we get from prior_sampler, to simulate a set of observations.\n",
    "\n",
    "The next generator in the pipeline takes in the stream of priors from `prior_sampler` and spits out a stream of `(simulation, prior)` tuples."
   ]
  },
  {
   "cell_type": "code",
   "execution_count": 28,
   "metadata": {
    "collapsed": true
   },
   "outputs": [],
   "source": [
    "def simulation_sampler(simulate, prior_sampler):\n",
    "    return ((simulate(p), p) for p in prior_sampler)"
   ]
  },
  {
   "cell_type": "markdown",
   "metadata": {},
   "source": [
    "To make this function general, I made the function used to generate the simulation one of its arguments. You can treat functions like any other object in Python, and that includes passing them as arguments.\n",
    "\n",
    "Let's take make what this generator does concrete by using `simulateconversion()` as the `simulate` function. Now remember that `simulateconversion()` takes two arguments, conversion probability `p` and number of visitors `nvisitors`. Here's the code for it, which we looked at in the previous part.\n",
    "\n",
    "But `simulation_sampler` needs a callable that takes only one argument, a trial sample from the prior. So we need to turn `simulateconversion` into a function that takes one parameter\n",
    "\n",
    "We can do this using `functools.partial` to make a new callable with a baked in, fixed value for the `nvisitors`."
   ]
  },
  {
   "cell_type": "code",
   "execution_count": 29,
   "metadata": {
    "collapsed": true
   },
   "outputs": [],
   "source": [
    "import functools\n",
    "\n",
    "simulateconversion_na = functools.partial(simulateconversion, nvisitors = na)"
   ]
  },
  {
   "cell_type": "markdown",
   "metadata": {},
   "source": [
    "Here's how that partially evaluated (or curried) function works"
   ]
  },
  {
   "cell_type": "code",
   "execution_count": 30,
   "metadata": {},
   "outputs": [
    {
     "data": {
      "text/plain": [
       "3"
      ]
     },
     "execution_count": 30,
     "metadata": {},
     "output_type": "execute_result"
    }
   ],
   "source": [
    "simulateconversion_na(0.04)"
   ]
  },
  {
   "cell_type": "markdown",
   "metadata": {},
   "source": [
    "Note we didn't have to tell the `simulation_na` that there were `na` visitors. It knew. We only had to tell it the conversion fraction.\n",
    "\n",
    "Now we're finally able to use `simulation_sampler` to take the stream of trial prior samples and spit out a stream of `(simulation, prior)` tuples."
   ]
  },
  {
   "cell_type": "code",
   "execution_count": 31,
   "metadata": {},
   "outputs": [
    {
     "data": {
      "text/plain": [
       "[(5, 0.05), (1, 0.02), (3, 0.04), (0, 0.03), (0, 0.01)]"
      ]
     },
     "execution_count": 31,
     "metadata": {},
     "output_type": "execute_result"
    }
   ],
   "source": [
    "take(5, simulation_sampler(simulateconversion_na, prior_sampler(prior)))"
   ]
  },
  {
   "cell_type": "markdown",
   "metadata": {},
   "source": [
    "The final piece of the ABC pipeline is another generator that takes the output from simulation_sampler and filters out all the tuples yielded by `simulation_sampler` whose first elements do not look like the real observation.\n",
    "\n",
    "We can do that with a simple generator expression with an `if` filter. The filter uses a callable function that compares two observations (or a simulation and a real observation), and returns True if they are similar. \n",
    "\n",
    "Finally we're ready to put this all together and implement Approximate Bayesian Computation."
   ]
  },
  {
   "cell_type": "code",
   "execution_count": 32,
   "metadata": {
    "collapsed": true
   },
   "outputs": [],
   "source": [
    "def abayes(prior, obs, simulate, compare):\n",
    "    priors = prior_sampler(prior)\n",
    "    simulations = simulation_sampler(simulate, priors)\n",
    "    posterior_sampler = (p for sim, p in simulations if compare(sim, obs))\n",
    "    return posterior_sampler"
   ]
  },
  {
   "cell_type": "markdown",
   "metadata": {},
   "source": [
    "`priors` here is an infinite generator of prior samples made from the list of possible values `prior` we passed in.\n",
    "\n",
    "`simulations` is an infinite generator of (prior, simulation) tuples made by calling `simulate` on each prior sample in the stream from `priors`.\n",
    "\n",
    "`posterior_sampler` is an infinite generator of samples from the prior filtered down to only those whose simulations that look like the observed data.\n",
    "\n",
    "Let's use it for layout A in the A/B test in the previos part. We'll try values for the conversion fraction that go from 0 to 1 in steps of 0.001. This is our prior."
   ]
  },
  {
   "cell_type": "code",
   "execution_count": 33,
   "metadata": {
    "collapsed": true
   },
   "outputs": [],
   "source": [
    "prior = [p1000/1000 for p1000 in range(1000)]\n",
    "\n",
    "pa_posterior_sampler = abayes(prior,\n",
    "                              obsa,\n",
    "                              simulateconversion_na,\n",
    "                              compareconversion)"
   ]
  },
  {
   "cell_type": "markdown",
   "metadata": {},
   "source": [
    "`pa_posterior_sampler` is a potentially infinite generator, waiting for us to ask it for values. The values it yields are samples from the posterior distribution. Let's draw ten."
   ]
  },
  {
   "cell_type": "code",
   "execution_count": 34,
   "metadata": {},
   "outputs": [
    {
     "data": {
      "text/plain": [
       "[0.027, 0.066, 0.039, 0.024, 0.056, 0.078, 0.036, 0.057, 0.108, 0.053]"
      ]
     },
     "execution_count": 34,
     "metadata": {},
     "output_type": "execute_result"
    }
   ],
   "source": [
    "take(10, pa_posterior_sampler)"
   ]
  },
  {
   "cell_type": "markdown",
   "metadata": {},
   "source": [
    "Looking good. What about the layout B sampler, and let's ask for 5000 samples from each? Remember we had a different number of visitors for layout B, so we need to make another partial function."
   ]
  },
  {
   "cell_type": "code",
   "execution_count": 35,
   "metadata": {},
   "outputs": [
    {
     "data": {
      "image/png": "[encoded data removed]",
      "text/plain": [
       "<matplotlib.figure.Figure at 0x1054a7f98>"
      ]
     },
     "metadata": {},
     "output_type": "display_data"
    }
   ],
   "source": [
    "simulateconversion_nb = functools.partial(simulateconversion, nvisitors=nb)\n",
    "pb_posterior_sampler = abayes(prior,\n",
    "                              obsb,\n",
    "                              simulateconversion_nb,\n",
    "                              compareconversion)\n",
    "\n",
    "nsamples = 5000\n",
    "pa_samples = take(nsamples, pa_posterior_sampler)\n",
    "pb_samples = take(nsamples, pb_posterior_sampler)\n",
    "\n",
    "plt.hist(pa_samples, bins=abbins, label='A')\n",
    "plt.hist(pb_samples, bins=abbins, label='B', alpha=0.5)\n",
    "plt.legend();"
   ]
  },
  {
   "cell_type": "markdown",
   "metadata": {},
   "source": [
    "## Online learning"
   ]
  },
  {
   "cell_type": "markdown",
   "metadata": {},
   "source": [
    "What have we gained, apart from some clever code.\n",
    "\n",
    "We've used Bayes's rule to turn beliefs prior to an experiment (that the conversion fraction is somewhere between 0 and 1) into beliefs after an experiment, the posterior.\n",
    "\n",
    "Bayesians sometimes say \"today's posterior is tomorrow's prior\". What they mean is, if we then go on to do another experiement, we can use the posterior from the previous experiement as a new prior.\n",
    "\n",
    "This allows us to do \"online learning\", i.e. to update our beliefs continually as data arrives. Imagine if, instead of being given the final results of the performance of layout A after 100 visitors, we were given the results every 20 visitors."
   ]
  },
  {
   "cell_type": "code",
   "execution_count": 38,
   "metadata": {
    "collapsed": true
   },
   "outputs": [],
   "source": [
    "hourly_obs = [1, 0, 2, 0, 1]"
   ]
  },
  {
   "cell_type": "markdown",
   "metadata": {},
   "source": [
    "Now we can use our `abayes` function to set up an \"online\" experiment that uses new data as it arrives.\n",
    "\n",
    "We do this by writing a generator that yields up the posterior after an observation, and then uses that posterior as the prior for the next round."
   ]
  },
  {
   "cell_type": "code",
   "execution_count": 36,
   "metadata": {
    "collapsed": true
   },
   "outputs": [],
   "source": [
    "# todays posterior is tomorrows prior bayesians are saying\n",
    "def online_abayes(prior, obses, simulate, compare, nsamples=10000):\n",
    "    for obs in obses:\n",
    "        posterior = take(nsamples, abayes(prior, obs, simulate, compare))\n",
    "        yield posterior\n",
    "        prior = posterior"
   ]
  },
  {
   "cell_type": "markdown",
   "metadata": {},
   "source": [
    "This generator very literally encodes the idea that \"today's posterior is tomorrow's prior\" in its final line. Let's use it."
   ]
  },
  {
   "cell_type": "code",
   "execution_count": 39,
   "metadata": {},
   "outputs": [
    {
     "data": {
      "image/png": "[encoded data removed]",
      "text/plain": [
       "<matplotlib.figure.Figure at 0x105944780>"
      ]
     },
     "metadata": {},
     "output_type": "display_data"
    }
   ],
   "source": [
    "simulateconversion_online = functools.partial(simulateconversion, nvisitors=20)\n",
    "\n",
    "posteriors = list(online_abayes(prior,\n",
    "                                hourly_obs,\n",
    "                                simulateconversion_online, \n",
    "                                compareconversion))\n",
    "\n",
    "for i, p in enumerate(posteriors, 1):\n",
    "    plt.hist(p, bins=abbins, label=str(i*20) + ' visitors', alpha=0.5)\n",
    "\n",
    "plt.legend();"
   ]
  },
  {
   "cell_type": "markdown",
   "metadata": {},
   "source": [
    "Note that the posterior distribution gets narrorwer as we collect more visitors. This means we're becoming more confident, which makes sense. \n",
    "\n",
    "This online approach allows us to make quantitative statements much earlier on. We can stop the experiment the minute we become confident enough. \n",
    "\n",
    "And it allows us to smoothly transition from a reigime in which we're depending on our best guess (the prior), to one where our beliefs are dominated by data.\n",
    "\n",
    "## 3. Improving performance and the German tank problem"
   ]
  },
  {
   "cell_type": "markdown",
   "metadata": {},
   "source": [
    "The final part of this tutorial is about the performance. Approximate Bayesian Computation is a brute force algorithm. It works, but it's not quick. We'll look at a way of speeding it up that will allow us to solve a slightly tougher problem, and a statistics classic. And finally we'll use a \"real\" probabilistic programming language to solve the same problem.\n",
    "\n",
    "So, firstly, remember the A/B test. We had 4/100 visitors convert on layout A. That's a pretty small test. What if we had ten times more data: 1000 visitors, 40 of whom converted. Let's time how long it takes to draw just 1 sample from the posterior in that case"
   ]
  },
  {
   "cell_type": "code",
   "execution_count": 40,
   "metadata": {},
   "outputs": [
    {
     "name": "stdout",
     "output_type": "stream",
     "text": [
      "1 loop, best of 3: 618 ms per loop\n"
     ]
    }
   ],
   "source": [
    "nbig = 1000\n",
    "obsbig = 40\n",
    "simulateconversion_big = functools.partial(simulateconversion, nvisitors=nbig)\n",
    "pa_sampler_big = abayes(prior, obsa, simulateconversion_big, compareconversion)\n",
    "\n",
    "%timeit take(1, pa_sampler_big)"
   ]
  },
  {
   "cell_type": "markdown",
   "metadata": {},
   "source": [
    "Let's compare this to the data we worked with before: 100 visitors, 4 of whom converted"
   ]
  },
  {
   "cell_type": "code",
   "execution_count": 41,
   "metadata": {},
   "outputs": [
    {
     "name": "stdout",
     "output_type": "stream",
     "text": [
      "100 loops, best of 3: 3.79 ms per loop\n"
     ]
    }
   ],
   "source": [
    "pa_sampler = abayes(prior, obsa, simulateconversion_na, compareconversion)\n",
    "\n",
    "%timeit take(1, pa_sampler)"
   ]
  },
  {
   "cell_type": "markdown",
   "metadata": {},
   "source": [
    "We collected 10 times more data, but the calculation takes 50-100 times longer. This is catastrophic news for our algorithm.\n",
    "\n",
    "Why is it so slow? The problem is, the \"acceptance rate\" is extremely small. That's because the probability of a simulation _exactly_ matching the observation is very low.\n",
    "\n",
    "Imagine I toss a coin 100 times. The most likely outcome is 50 heads. It's more likely than all the other possibilities. But the probability of getting exactly fifty heads is very small. This is the same deal. If the conversion fraction is 4% and 100 people visit, the most likely outcome is that 4 people convert. But the probability that _exactly_ 4 people convert is small.\n",
    "\n",
    "And we need to get it _exactly_ right to yield up a sample from the posterior. \n",
    "\n",
    "What's the solution? The simplest thing to do is relax the requirement that they agree exactly. We can do this by changing to compare function to give it some \"fuzziness\", so that we accept simulations that look roughly like the observations within some tolerance."
   ]
  },
  {
   "cell_type": "code",
   "execution_count": 42,
   "metadata": {
    "collapsed": true
   },
   "outputs": [],
   "source": [
    "def compareconversion_fuzzy(obs1, obs2, tol=0.1):\n",
    "    return abs(obs1 - obs2)/(obs1 + 1) < tol"
   ]
  },
  {
   "cell_type": "markdown",
   "metadata": {},
   "source": [
    "This function returns True if the difference between obs1 and obs2 is less than 10% of the value of obs1. The `+1` is in there to make sure we don't divide by zero."
   ]
  },
  {
   "cell_type": "code",
   "execution_count": 43,
   "metadata": {},
   "outputs": [
    {
     "name": "stdout",
     "output_type": "stream",
     "text": [
      "10 loops, best of 3: 36 ms per loop\n"
     ]
    }
   ],
   "source": [
    "pa_sampler_big_fuzzy = abayes(prior, obsbig, simulateconversion_big, compareconversion_fuzzy)\n",
    "\n",
    "%timeit take(1, pa_sampler_big_fuzzy)"
   ]
  },
  {
   "cell_type": "markdown",
   "metadata": {},
   "source": [
    "That's a nice big speedup of a factor of 10 or so. But you get nothing for free! I'll leave it to you to investigate this, but the fuzzy comparison means that you get a fuzzy posterior. The peak will be in the right place, but it will be smeared out.\n",
    "\n",
    "But now we have an idea that will allow us to run ABC on a statistics classic.\n",
    "\n",
    "### The German tank problem\n",
    "\n",
    "This is a German tank problem, which was faced by Allied forces during the Second World War.\n",
    "\n",
    "German tanks we assigned a serial number when they rolled off the production line. The first tank was number 0, the next was number 1, and so on, up to `N-1`, the last tank. The Allies capture `m` tanks and can read their serial numbers.\n",
    "\n",
    "The question is: given those `m` serial numbers, how many tanks does Germany have, i.e. what is `N`?\n",
    "\n",
    "You can solve this problem \"analytically\", by writing down equations and solving integrals. There was an analytic solution to the A/B test problem too. But we've now set up the apparatus to solve it by simulation using Approximate Bayesian Computation.\n",
    "\n",
    "To use our function `abayes()` we need a prior, an observation, a function to simulate the observation given values of `N` and `m`, and a function to compare an observation with a simulation.\n",
    "\n",
    "Let's start with the observation and the simulation function. With A/B testing the observation was a simple number. With the German Tank Problem it's a bit more complicated: it's a list, the serial numbers of the captured tanks. Here's a function to simulate the observation, given `N` and `m`:"
   ]
  },
  {
   "cell_type": "code",
   "execution_count": 44,
   "metadata": {
    "collapsed": true
   },
   "outputs": [],
   "source": [
    "def simulatetanks(N, m):\n",
    "    return random.sample(range(N), m)"
   ]
  },
  {
   "cell_type": "markdown",
   "metadata": {},
   "source": [
    "This function uses `sample` to make sure we don't get the same number twice. You can't catch a tank twice.\n",
    "\n",
    "Let's say, there are in reality 1000 tanks and the Allies capture two."
   ]
  },
  {
   "cell_type": "code",
   "execution_count": 50,
   "metadata": {},
   "outputs": [
    {
     "name": "stdout",
     "output_type": "stream",
     "text": [
      "[244, 940]\n"
     ]
    }
   ],
   "source": [
    "ntanks = 1000\n",
    "nobs = 2\n",
    "\n",
    "obstanks = simulatetanks(ntanks, nobs)\n",
    "print(obstanks)"
   ]
  },
  {
   "cell_type": "markdown",
   "metadata": {},
   "source": [
    "So we've got our observation, and a function to simulate observations. Next the prior.\n",
    "\n",
    "The Allies know the Germans have at least `max(obs)` tanks. And let's say they know that they have no more than 5000. So a reasonable prior might be the integers in this range"
   ]
  },
  {
   "cell_type": "code",
   "execution_count": 51,
   "metadata": {
    "collapsed": true
   },
   "outputs": [],
   "source": [
    "priortanks = range(max(obstanks), 5000)"
   ]
  },
  {
   "cell_type": "markdown",
   "metadata": {},
   "source": [
    "Finally, we need a function to compare the serial numbers of the observed tanks and the results of a simulation. \n",
    "\n",
    "Again, to speed things up, we'll give our function a tolerance, so that the simulation needs to be similar to the observations, rather than identical."
   ]
  },
  {
   "cell_type": "code",
   "execution_count": 52,
   "metadata": {
    "collapsed": true
   },
   "outputs": [],
   "source": [
    "def comparetanks(obs1, obs2, tol=20):\n",
    "    return all(abs(o1 - o2) <= tol \n",
    "               for o1, o2 in zip(sorted(obs1), sorted(obs2)))"
   ]
  },
  {
   "cell_type": "markdown",
   "metadata": {},
   "source": [
    "Now we're all set to run `abayes`"
   ]
  },
  {
   "cell_type": "code",
   "execution_count": 53,
   "metadata": {
    "collapsed": true
   },
   "outputs": [],
   "source": [
    "posterior_tank_sampler = abayes(priortanks, obstanks,\n",
    "                                functools.partial(simulatetanks, m=nobs),\n",
    "                                comparetanks)\n",
    "\n",
    "tank_samples = take(1000, posterior_tank_sampler)"
   ]
  },
  {
   "cell_type": "markdown",
   "metadata": {},
   "source": [
    "In a second I'm going to plot the answer we got. But also, to prove everything we've done in these three tutorials was correct, I'm going to overplot the analytic solution to this problem, i.e. this is the known correct answer.\n",
    "\n",
    "These exist for some problems, but not all, which is why simulation-based methods like Approximate Bayesian Computation are so useful.\n",
    "\n",
    "Now, you'll have to take my word for it that this function is the analytic solution."
   ]
  },
  {
   "cell_type": "code",
   "execution_count": 54,
   "metadata": {},
   "outputs": [
    {
     "data": {
      "image/png": "[encoded data removed]",
      "text/plain": [
       "<matplotlib.figure.Figure at 0x105c3b860>"
      ]
     },
     "metadata": {},
     "output_type": "display_data"
    }
   ],
   "source": [
    "from math import factorial\n",
    "\n",
    "\n",
    "def binom(x, y):\n",
    "    return factorial(x)//(factorial(y) * factorial(x - y))\n",
    "\n",
    "\n",
    "def analytic_solution(n, obs):\n",
    "    '''Probability that there are n tanks given a list of observed serial numbers.'''\n",
    "    k = len(obs)\n",
    "    if k < 2:\n",
    "        raise ValueError(\"len(data) = {}. Analytic formula valid for len(data) >= 2.\".format(k))\n",
    "    m = max(obs)\n",
    "    if n < m:\n",
    "        return 0.0\n",
    "    else:\n",
    "        return (k - 1)/k * binom(m - 1, k - 1)/binom(n, k)\n",
    "\n",
    "\n",
    "tankbins = range(0, 5000, 50)\n",
    "plt.hist(tank_samples, normed=True, bins=tankbins)\n",
    "plt.plot(tankbins, [analytic_solution(x, obstanks) for x in tankbins]);"
   ]
  },
  {
   "cell_type": "markdown",
   "metadata": {},
   "source": [
    "### Probabilistic programming\n",
    "\n",
    "We've built up a very simple probabilistic programming system. That's the function `abayes`. It conceals some of the complexity of a particular approach to Bayesian inference.\n",
    "\n",
    "To use it, all you have to do is:\n",
    "   - observe some data\n",
    "   - come up with a prior distribution the parameter you'd like to know\n",
    "   - write a function that takes a sample from that distribution and simulates data\n",
    "   - write a function that compares an observation and a simulation\n",
    "\n",
    "But we hit a major performance bottleneck that required us to make the algorithm approximate in order to make progress. Our solution, fuzzy comparions, allowed us to solve not only a very simple problem with one parameter and one observation, A/B testing, but also a slightly more complex problems, with one parameter and two observations.\n",
    "\n",
    "But this doesn't scale. Interesting problems often have tens, hundreds or even thousands of parameters, sometimes with complex interpendencies. There's no easy way we make the acceptance rate high enough for those problems.\n",
    "\n",
    "At this point, you need to graduate to industrial strength sampling algorithms. The best-known examples are Markov Chain Monte Carlo (which includes Metropolis Hastings and Gibbs sampling) and Hamiltonian Monte Carlo. And the new hotness is ADVI. These are super fast, but a little bit fiddly to implemement.\n",
    "\n",
    "The good news is, there are probabilistic programming systems that, like ours, abstract away the algorithmic complexity, but of these much smarter, faster, rather than brute force ABC.\n",
    "\n",
    "To finish this series, let's resolve the German tank problem using an off-the-shelf probabilistic programming system called pymc3. Not only is it faster, it makes specifying your simulation process much easier because fundamental ideas like random variables and distributions are primitive objects that can be composed together.\n",
    "\n",
    "Here's the whole German Tank Problem, specified and solved in ABC."
   ]
  },
  {
   "cell_type": "code",
   "execution_count": 60,
   "metadata": {},
   "outputs": [
    {
     "ename": "ModuleNotFoundError",
     "evalue": "No module named 'pymc3'",
     "traceback": [
      "\u001b[0;31m---------------------------------------------------------------------------\u001b[0m",
      "\u001b[0;31mModuleNotFoundError\u001b[0m                       Traceback (most recent call last)",
      "\u001b[0;32m<ipython-input-60-ff621156e7b6>\u001b[0m in \u001b[0;36m<module>\u001b[0;34m()\u001b[0m\n\u001b[1;32m      1\u001b[0m \u001b[0;31m# bug here pymc3 samples with replacement\u001b[0m\u001b[0;34m\u001b[0m\u001b[0;34m\u001b[0m\u001b[0m\n\u001b[0;32m----> 2\u001b[0;31m \u001b[0;32mfrom\u001b[0m \u001b[0mpymc3\u001b[0m \u001b[0;32mimport\u001b[0m \u001b[0mDiscreteUniform\u001b[0m\u001b[0;34m,\u001b[0m \u001b[0mModel\u001b[0m\u001b[0;34m,\u001b[0m \u001b[0msample\u001b[0m\u001b[0;34m\u001b[0m\u001b[0m\n\u001b[0m\u001b[1;32m      3\u001b[0m \u001b[0;34m\u001b[0m\u001b[0m\n\u001b[1;32m      4\u001b[0m \u001b[0;32mwith\u001b[0m \u001b[0mModel\u001b[0m\u001b[0;34m(\u001b[0m\u001b[0;34m)\u001b[0m\u001b[0;34m:\u001b[0m\u001b[0;34m\u001b[0m\u001b[0m\n\u001b[1;32m      5\u001b[0m     \u001b[0mntanks\u001b[0m \u001b[0;34m=\u001b[0m \u001b[0mDiscreteUniform\u001b[0m\u001b[0;34m(\u001b[0m\u001b[0;34m'ntanks'\u001b[0m\u001b[0;34m,\u001b[0m \u001b[0mlower\u001b[0m\u001b[0;34m=\u001b[0m\u001b[0mmax\u001b[0m\u001b[0;34m(\u001b[0m\u001b[0mobstanks\u001b[0m\u001b[0;34m)\u001b[0m\u001b[0;34m,\u001b[0m \u001b[0mupper\u001b[0m\u001b[0;34m=\u001b[0m\u001b[0;36m5000\u001b[0m\u001b[0;34m)\u001b[0m\u001b[0;34m\u001b[0m\u001b[0m\n",
      "\u001b[0;31mModuleNotFoundError\u001b[0m: No module named 'pymc3'"
     ],
     "output_type": "error"
    }
   ],
   "source": [
    "# bug here pymc3 samples with replacement\n",
    "from pymc3 import DiscreteUniform, Model, sample\n",
    "\n",
    "with Model():\n",
    "    ntanks = DiscreteUniform('ntanks', lower=max(obstanks), upper=5000)\n",
    "    obs = DiscreteUniform('obs', lower=0, upper=ntanks, observed=obstanks) \n",
    "    trace = sample(10000)"
   ]
  },
  {
   "cell_type": "markdown",
   "metadata": {},
   "source": [
    "That was ten times more samples in a tenth the time. And if you increase `nobs` the difference in speed becomes huge.\n",
    "\n",
    "Let's just check the answer is correct."
   ]
  },
  {
   "cell_type": "code",
   "execution_count": null,
   "metadata": {
    "collapsed": true
   },
   "outputs": [],
   "source": [
    "burn_in = 1000\n",
    "plt.hist(trace[burn_in:].get_values('ntanks'), normed=True, bins=100)\n",
    "plt.plot(tankbins, [analytic_solution(x, obstanks) for x in tankbins]);"
   ]
  },
  {
   "cell_type": "markdown",
   "metadata": {},
   "source": [
    "So for \"real\" problems you should use pymc3.\n",
    "\n",
    "But Approximate Bayesian Computation is a great way to build up intution about the role of the prior, the generative model (the fancy name for the simulation function we wrote for each problem), and how to use the posterior to answer arbitrary questions probabilistically.\n",
    "\n",
    "## What next\n",
    "\n",
    " - I have five coins. They are all equally unfair, i.e. they all have the same probability `p` of coming up heads. I toss each coin ten times and get [5, 3, 2, 4, 3] heads. Use `abayes` to figure out the posterior probability distribution of `p`. What's the probability that `p` is greater than 0.5, i.e. the coin has a bias toward heads?\n",
    " - Try changing the priors we used in this notebook. We used uniform priors, i.e. we specified a range of possible values, and said all were equally likely. Change the range of possible values. Change the way you build the list of possible priors. to make some values more likely than others. See how this affects the posterior.\n",
    " - If you followed all this and found it easy, take a look at [Markov Chain Monte Carlo without the Bullshit](https://jeremykun.com/2015/04/06/markov-chain-monte-carlo-without-all-the-bullshit/) and see if you can write a similar system to `abayes` that uses the Metropolis Hastings algorithm. \n",
    " - The pymc3 solution to the German Tank Problem has a tiny bug. It samples with replacement, which means it can generate fake observations of two tanks that have the same serial number. Google around and figure out how to fix this.\n",
    "\n",
    "## TODO\n",
    "\n",
    "- Discuss role of prior"
   ]
  }
 ],
 "metadata": {
  "kernelspec": {
   "display_name": "Python 3",
   "language": "python",
   "name": "python3"
  },
  "language_info": {
   "codemirror_mode": {
    "name": "ipython",
    "version": 3
   },
   "file_extension": ".py",
   "mimetype": "text/x-python",
   "name": "python",
   "nbconvert_exporter": "python",
   "pygments_lexer": "ipython3",
   "version": "3.6.1"
  }
 },
 "nbformat": 4,
 "nbformat_minor": 1
}
